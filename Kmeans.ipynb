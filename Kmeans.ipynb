{
 "cells": [
  {
   "cell_type": "markdown",
   "id": "e3502b0f-1287-4d6d-99d2-7b01fc23f10f",
   "metadata": {},
   "source": [
    "# 1.1"
   ]
  },
  {
   "cell_type": "code",
   "execution_count": 1,
   "id": "381f3d60-6c83-4362-8762-38371ef87649",
   "metadata": {},
   "outputs": [],
   "source": [
    "import pandas as pd\n",
    "import numpy as np\n",
    "from math import sqrt\n",
    "from sklearn.cluster import KMeans\n",
    "import matplotlib.pyplot as plt\n",
    "data=[[19.3, 19.5], [30.4, 23.7], [22.5, 24.1], [37.4, 25.1], [19.7, 26.2],[15.7, 30.3], [32.8, 24.0], [29.5, 19.5],[33.0,23.0],[17.2,24.6]]\n",
    "k=2\n",
    "M= [[19.0, 26.0], [33.0, 29.0]]\n",
    "e=0.01"
   ]
  },
  {
   "cell_type": "code",
   "execution_count": 2,
   "id": "89ac8796-7b30-4973-b950-16eaf96e97e6",
   "metadata": {},
   "outputs": [],
   "source": [
    "def argmin(xj,u):\n",
    "    vec=[]\n",
    "    vec.append(xj[0]-u[0])\n",
    "    vec.append(xj[1]-u[1])    \n",
    "    temp=vec[0]*vec[0]+vec[1]*vec[1]\n",
    "    lenVec=sqrt(temp)    \n",
    "    return(lenVec*lenVec)"
   ]
  },
  {
   "cell_type": "code",
   "execution_count": 3,
   "id": "a0fc97bb-f6f0-4556-bbae-2dd2f3102d03",
   "metadata": {},
   "outputs": [],
   "source": [
    "def MyKMeans(D,k,e,M):\n",
    "    t=0\n",
    "    U=[]\n",
    "    U.append(M)    \n",
    "    while True:\n",
    "        t+=1\n",
    "        C=[]       \n",
    "        for i in range(k):\n",
    "            C.append([])\n",
    "        for xj in range(len(D)):\n",
    "            argminVal=32000\n",
    "            index=0\n",
    "            for i in range(k):\n",
    "                tempMin=argmin(D[xj],U[t-1][i])                \n",
    "                if tempMin<=argminVal:\n",
    "                    argminVal=tempMin\n",
    "                    index=i                    \n",
    "            C[index].append(xj)            \n",
    "        tempU=[]\n",
    "        for i in range(k):\n",
    "            tempU.append([])\n",
    "            sumX=0\n",
    "            sumY=0\n",
    "            for j in range(len(C[i])):\n",
    "                sumX+=D[C[i][j]][0]\n",
    "                sumY+=D[C[i][j]][1]\n",
    "            vec=[]\n",
    "            vec.append(sumX/len(C[i]))\n",
    "            vec.append(sumY/len(C[i]))\n",
    "            tempU[i]=vec\n",
    "        U.append(tempU)        \n",
    "        conditionU=0\n",
    "        for i in range(1,k):\n",
    "            conditionU+=argmin(U[t][i],U[t-1][i])\n",
    "        if conditionU<e:\n",
    "            print('Clusters: ',C)\n",
    "            print('New centres: ',U[t])\n",
    "            return(C,U[t])"
   ]
  },
  {
   "cell_type": "code",
   "execution_count": 4,
   "id": "0612b52d-c6e9-4157-baf4-d6dcf82b5f0a",
   "metadata": {},
   "outputs": [
    {
     "name": "stdout",
     "output_type": "stream",
     "text": [
      "Source data D =  [[19.3, 19.5], [30.4, 23.7], [22.5, 24.1], [37.4, 25.1], [19.7, 26.2], [15.7, 30.3], [32.8, 24.0], [29.5, 19.5], [33.0, 23.0], [17.2, 24.6]]\n",
      "Clusters count:  2\n",
      "Init centers: u_init =  [[19.0, 26.0], [33.0, 29.0]]\n",
      "Epsilon:  0.01\n",
      "\n",
      "1.1\n",
      "Clusters:  [[0, 2, 4, 5, 9], [1, 3, 6, 7, 8]]\n",
      "New centres:  [[18.880000000000003, 24.939999999999998], [32.62, 23.06]]\n"
     ]
    }
   ],
   "source": [
    "print('Source data D = ',data)\n",
    "print('Clusters count: ',k)\n",
    "print('Init centers: u_init = ',M)\n",
    "print('Epsilon: ',e)\n",
    "print()\n",
    "print('1.1')\n",
    "C,centroids=MyKMeans(data,k,e,M)"
   ]
  },
  {
   "cell_type": "markdown",
   "id": "af4c8dba-a69c-4e2f-8288-ccd531e36841",
   "metadata": {},
   "source": [
    "# 1.2"
   ]
  },
  {
   "cell_type": "code",
   "execution_count": 5,
   "id": "c8aafd58-1ffe-4168-bd8b-8d7e2e7ae997",
   "metadata": {},
   "outputs": [],
   "source": [
    "def drawDiagram(data,C,centroids):\n",
    "    C0X=[]\n",
    "    C0Y=[]\n",
    "    C1X=[]\n",
    "    C1Y=[]\n",
    "    for i in range(len(C[0])):\n",
    "        C0X.append(data[C[0][i]][0])\n",
    "        C0Y.append(data[C[0][i]][1])\n",
    "    for i in range(len(C[1])):\n",
    "        C1X.append(data[C[1][i]][0])\n",
    "        C1Y.append(data[C[1][i]][1])    \n",
    "    plt.scatter(C0X,C0Y,c='blue', label='Cluster 0')\n",
    "    plt.scatter(C1X,C1Y,c='orange', label='Cluster 1')\n",
    "    plt.scatter(centroids[0][0], centroids[0][1], marker='*',c='g')\n",
    "    plt.scatter(centroids[1][0], centroids[1][1], marker='*',c='r')\n",
    "    plt.legend()\n",
    "    for i in range(len(data)):\n",
    "        for j in range(len(C0X)):\n",
    "            if data[i][0]==C0X[j] and data[i][1]==C0Y[j]:\n",
    "                plt.annotate(i, (data[i][0]-0.1, data[i][1]+0.1))\n",
    "        for j in range(len(C1X)):\n",
    "            if data[i][0]==C1X[j] and data[i][1]==C1Y[j]:\n",
    "                plt.annotate(i, (data[i][0]-0.1, data[i][1]+0.1))\n",
    "    plt.annotate('Center 0',(centroids[0][0], centroids[0][1]-0.2))\n",
    "    plt.annotate('Center 1',(centroids[1][0], centroids[1][1]-0.2))"
   ]
  },
  {
   "cell_type": "code",
   "execution_count": 6,
   "id": "06f2f492-81cc-46aa-a0ef-db6efc2fee66",
   "metadata": {},
   "outputs": [
    {
     "data": {
      "image/png": "[encoded data removed]",
      "text/plain": [
       "<Figure size 432x288 with 1 Axes>"
      ]
     },
     "metadata": {
      "needs_background": "light"
     },
     "output_type": "display_data"
    }
   ],
   "source": [
    "drawDiagram(data,C,centroids)"
   ]
  },
  {
   "cell_type": "markdown",
   "id": "9ba32b8e-9a38-4bd8-924a-830034831889",
   "metadata": {},
   "source": [
    "# 1.3"
   ]
  },
  {
   "cell_type": "code",
   "execution_count": 7,
   "id": "0d88c663-6e2c-4d75-8918-be4c1a14ff07",
   "metadata": {},
   "outputs": [
    {
     "name": "stdout",
     "output_type": "stream",
     "text": [
      "KMean labels:  [0, 1, 0, 1, 0, 0, 1, 1, 1, 0]\n",
      "KMean cluster centres:  [[18.88 24.94]\n",
      " [32.62 23.06]]\n"
     ]
    }
   ],
   "source": [
    "kmeans = KMeans(n_clusters=2, tol=e).fit(data)\n",
    "Klabels=list(kmeans.labels_)\n",
    "Kcentres=(kmeans.cluster_centers_)\n",
    "print('KMean labels: ',Klabels)\n",
    "print('KMean cluster centres: ',Kcentres)"
   ]
  },
  {
   "cell_type": "markdown",
   "id": "80a9e454-ca34-431a-9684-535fa21ecbb7",
   "metadata": {},
   "source": [
    "# 1.4"
   ]
  },
  {
   "cell_type": "code",
   "execution_count": 8,
   "id": "c763a7d4-1d89-4d87-add9-72d3e5288214",
   "metadata": {},
   "outputs": [
    {
     "name": "stdout",
     "output_type": "stream",
     "text": [
      "Add point [-10.0, 25.0] to D\n",
      "Clusters:  [[0, 2, 4, 5, 9, 10], [1, 3, 6, 7, 8]]\n",
      "New centres:  [[14.066666666666668, 24.95], [32.62, 23.06]]\n"
     ]
    },
    {
     "data": {
      "image/png": "[encoded data removed]",
      "text/plain": [
       "<Figure size 432x288 with 1 Axes>"
      ]
     },
     "metadata": {
      "needs_background": "light"
     },
     "output_type": "display_data"
    }
   ],
   "source": [
    "data2=data.copy()\n",
    "data2.append([-10.0,25.0])\n",
    "print('Add point [-10.0, 25.0] to D')\n",
    "C2,centroids2=MyKMeans(data2,k,e,M)\n",
    "drawDiagram(data2,C2,centroids2)"
   ]
  },
  {
   "cell_type": "code",
   "execution_count": null,
   "id": "5e3cdcaf-20ff-4fb8-8d43-77c3c8f0c02c",
   "metadata": {},
   "outputs": [],
   "source": []
  },
  {
   "cell_type": "code",
   "execution_count": null,
   "id": "479164bd-4896-4c31-9b07-f5e8bf8c8acd",
   "metadata": {},
   "outputs": [],
   "source": []
  }
 ],
 "metadata": {
  "kernelspec": {
   "display_name": "Python 3 (ipykernel)",
   "language": "python",
   "name": "python3"
  },
  "language_info": {
   "codemirror_mode": {
    "name": "ipython",
    "version": 3
   },
   "file_extension": ".py",
   "mimetype": "text/x-python",
   "name": "python",
   "nbconvert_exporter": "python",
   "pygments_lexer": "ipython3",
   "version": "3.9.6"
  }
 },
 "nbformat": 4,
 "nbformat_minor": 5
}
