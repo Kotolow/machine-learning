{
 "cells": [
  {
   "cell_type": "code",
   "execution_count": 1,
   "id": "789c138e-ff8b-42d6-bd50-accd3eceaff6",
   "metadata": {},
   "outputs": [
    {
     "name": "stdout",
     "output_type": "stream",
     "text": [
      "Source data S =  {'A': 7, 'B': 7, 'C': 8, 'D': 7, 'E': 8, 'AB': 5, 'AC': 5, 'AD': 5, 'AE': 5, 'BC': 6, 'BD': 4, 'BE': 5, 'CD': 5, 'CE': 6, 'DE': 6, 'ABC': 4, 'ABD': 3, 'ABE': 3, 'ACD': 3, 'ACE': 3, 'ADE': 4, 'BCD': 3, 'BCE': 4, 'BDE': 3, 'CDE': 4, 'ABCD': 2, 'ABCE': 2, 'ABDE': 2, 'ACDE': 2, 'BCDE': 2, 'ABCDE': 1}\n",
      "Min sup value  2.0\n"
     ]
    }
   ],
   "source": [
    "import pandas as pd\n",
    "import numpy as np\n",
    "\n",
    "MinsupValue=2.0\n",
    "data = {'A':7,'B':7,'C':8,'D':7,'E':8,'AB':5,'AC':5,'AD':5,'AE':5,'BC':6,'BD':4,'BE':5,'CD':5,'CE':6,'DE':6,'ABC':4,'ABD':3,'ABE':3,'ACD':3,'ACE':3,'ADE':4,'BCD':3,'BCE':4,'BDE':3,'CDE':4,'ABCD':2,'ABCE':2,'ABDE':2,'ACDE':2,'BCDE':2,'ABCDE':1}\n",
    "data_list=list(data.keys())\n",
    "print ('Source data S = ',data)\n",
    "print ('Min sup value ', MinsupValue)"
   ]
  },
  {
   "cell_type": "markdown",
   "id": "c9aeed3b-9368-4056-94cf-be7d09043ae6",
   "metadata": {},
   "source": [
    "## 2.1"
   ]
  },
  {
   "cell_type": "code",
   "execution_count": 2,
   "id": "ceb42f4f-60ba-43cd-a2c8-76f3f5c16a5e",
   "metadata": {},
   "outputs": [
    {
     "name": "stdout",
     "output_type": "stream",
     "text": [
      "T =  ['ABC', 'ADE', 'BCE', 'CDE', 'ABCD', 'ABCE', 'ABDE', 'ACDE', 'BCDE', 'ABCDE']\n"
     ]
    }
   ],
   "source": [
    "def findT (data, data_list):\n",
    "    t_check=data.copy()\n",
    "    t_set=[]\n",
    "    temp=[]\n",
    "    for i in range(len(data_list)):\n",
    "        for j in range(len(data_list[i])):\n",
    "                       temp+=data_list[i][j]                   \n",
    "        t_set.append(frozenset(temp))\n",
    "        temp.clear()\n",
    "    for i in range(len(data_list)):\n",
    "        if(len(data_list[i])==1):\n",
    "            index=i\n",
    "    t_list=data_list\n",
    "    for i in range(len(data_list)-1, index, -1):    \n",
    "        for j in range(len(data_list)):\n",
    "            check_value=t_check.get(data_list[i])\n",
    "            if(t_set[j].issubset(t_set[i]) and len(t_list[j])<len(t_list[i]) and check_value!=0):\n",
    "                t_check[data_list[j]]= t_check.get(data_list[j]) - t_check.get(data_list[i])      \n",
    "    t=[]           \n",
    "    for i in range(len(data_list)):\n",
    "        check=t_check.get(data_list[i])\n",
    "        if check>0:\n",
    "            for j in range(check):\n",
    "                t.append(data_list[i])            \n",
    "    return (t)         \n",
    "\n",
    "T=findT(data, data_list)\n",
    "print('T = ',T)\n"
   ]
  },
  {
   "cell_type": "markdown",
   "id": "f4ab857b-25f9-4e25-b253-72a386c6d81d",
   "metadata": {},
   "source": [
    "## 2.2"
   ]
  },
  {
   "cell_type": "code",
   "execution_count": 3,
   "id": "c41ddc28-2573-48eb-a4c7-c3be524204d5",
   "metadata": {},
   "outputs": [
    {
     "name": "stdout",
     "output_type": "stream",
     "text": [
      "P =  {'A': [0, 1, 4, 5, 6, 7, 9], 'B': [0, 2, 4, 5, 6, 8, 9], 'C': [0, 2, 3, 4, 5, 7, 8, 9], 'D': [1, 3, 4, 6, 7, 8, 9], 'E': [1, 2, 3, 5, 6, 7, 8, 9], 'AB': [0, 4, 5, 6, 9], 'AC': [0, 4, 5, 7, 9], 'AD': [1, 4, 6, 7, 9], 'AE': [1, 5, 6, 7, 9], 'BC': [0, 2, 4, 5, 8, 9], 'BD': [4, 6, 8, 9], 'BE': [2, 5, 6, 8, 9], 'CD': [3, 4, 7, 8, 9], 'CE': [2, 3, 5, 7, 8, 9], 'DE': [1, 3, 6, 7, 8, 9], 'ABC': [0, 4, 5, 9], 'ABD': [4, 6, 9], 'ABE': [5, 6, 9], 'ACD': [4, 7, 9], 'ACE': [5, 7, 9], 'ADE': [1, 6, 7, 9], 'BCD': [4, 8, 9], 'BCE': [2, 5, 8, 9], 'BDE': [6, 8, 9], 'CDE': [3, 7, 8, 9], 'ABCD': [4, 9], 'ABCE': [5, 9], 'ABDE': [6, 9], 'ACDE': [7, 9], 'BCDE': [8, 9], 'ABCDE': [9]}\n"
     ]
    }
   ],
   "source": [
    "def toSet(data_list):  \n",
    "    t_set=[]\n",
    "    temp=[]\n",
    "    for i in range(len(data_list)):\n",
    "        for j in range(len(data_list[i])):\n",
    "            temp+=data_list[i][j]                   \n",
    "        t_set.append(frozenset(temp))\n",
    "        temp.clear()\n",
    "    return t_set\n",
    "T_set=toSet(T)\n",
    "data_set=toSet(data_list)\n",
    "def findP(T_set,data_set):\n",
    "    P_dict={}\n",
    "    Mi=[]\n",
    "    for i in range(len(data_set)):\n",
    "        for j in range(len(T_set)):\n",
    "            if data_set[i].issubset(T_set[j]):\n",
    "                Mi.append(j)     \n",
    "        P_dict[data_list[i]]=Mi\n",
    "        Mi=[]\n",
    "    return(P_dict)        \n",
    "P=findP(T_set,data_set)\n",
    "print('P = ',P)             "
   ]
  },
  {
   "cell_type": "markdown",
   "id": "a19922ca-a7f2-4ceb-81d8-618cdbe3003d",
   "metadata": {},
   "source": [
    "## 2.3"
   ]
  },
  {
   "cell_type": "code",
   "execution_count": 4,
   "id": "0d8313dc-fa64-46e7-b7e6-3a5bf8d91d52",
   "metadata": {},
   "outputs": [],
   "source": [
    "def sort_key(P,minsup):\n",
    "    P_list_temp=[]\n",
    "    P_list_temp=list(P.keys())\n",
    "    P_data_temp=[]\n",
    "    P_data_temp=list(P.values())\n",
    "    P_list=[]\n",
    "    P_data=[]\n",
    "    for i in range(len(P_data_temp)):\n",
    "        P_data_temp[i]=len(P_data_temp[i])\n",
    "        if P_data_temp[i]>=minsup:\n",
    "            P_data.append(P_data_temp[i])\n",
    "            P_list.append(P_list_temp[i])\n",
    "    swapped = True\n",
    "    while swapped:\n",
    "        swapped = False\n",
    "        for i in range(len(P_data) - 1):\n",
    "            if P_data[i] > P_data[i + 1]:\n",
    "                P_data[i], P_data[i + 1] = P_data[i + 1], P_data[i]\n",
    "                P_list[i], P_list[i + 1] = P_list[i+1], P_list[i]                \n",
    "                swapped = True\n",
    "    return(P_list,P_data)"
   ]
  },
  {
   "cell_type": "code",
   "execution_count": 5,
   "id": "393d6abb-af6a-4fc0-a659-a88c6948b6d5",
   "metadata": {},
   "outputs": [
    {
     "name": "stdout",
     "output_type": "stream",
     "text": [
      "Start Charm with minsup value:  2.0\n",
      "\n",
      "Start R_CharmAlg\n",
      "Add to C: ( ABCD , [4, 9] )\n",
      "Add to C: ( ABCE , [5, 9] )\n",
      "Add to C: ( ABDE , [6, 9] )\n",
      "Add to C: ( ACDE , [7, 9] )\n",
      "Add to C: ( BCDE , [8, 9] )\n",
      "Current element: ( ABDE , [9, 6] )\n",
      "Add to Pi: ( ABDE , [9, 6] )\n",
      "\n",
      "Start R_CharmAlg\n",
      "End R_CharmAlg\n",
      "\n",
      "Add to C: ( ABD , [4, 6, 9] )\n",
      "Add to C: ( ABE , [5, 6, 9] )\n",
      "Current element: ( ACDE , [9, 7] )\n",
      "Add to Pi: ( ACDE , [9, 7] )\n",
      "\n",
      "Start R_CharmAlg\n",
      "End R_CharmAlg\n",
      "\n",
      "Add to C: ( ACD , [4, 7, 9] )\n",
      "Add to C: ( ACE , [5, 7, 9] )\n",
      "Current element: ( BCDE , [8, 9] )\n",
      "Add to Pi: ( BCDE , [8, 9] )\n",
      "\n",
      "Start R_CharmAlg\n",
      "End R_CharmAlg\n",
      "\n",
      "Add to C: ( BCD , [4, 8, 9] )\n",
      "Add to C: ( BDE , [6, 8, 9] )\n",
      "Current element: ( BDE , [8, 9, 6] )\n",
      "Add to Pi: ( BDE , [8, 9, 6] )\n",
      "\n",
      "Start R_CharmAlg\n",
      "End R_CharmAlg\n",
      "\n",
      "Add to C: ( BD , [4, 6, 8, 9] )\n",
      "Current element: ( ABCD , [9, 4] )\n",
      "Add to Pi: ( ABCD , [9, 4] )\n",
      "Current element: ( ABCE , [9, 5] )\n",
      "Add to Pi: ( ABCE , [9, 5] )\n",
      "\n",
      "Start R_CharmAlg\n",
      "End R_CharmAlg\n",
      "\n",
      "Add to C: ( ABC , [0, 4, 5, 9] )\n",
      "Add to C: ( ADE , [1, 6, 7, 9] )\n",
      "Add to C: ( BCE , [2, 5, 8, 9] )\n",
      "Add to C: ( CDE , [3, 7, 8, 9] )\n",
      "Current element: ( ABCD , [9, 4] )\n",
      "Add to Pi: ( ABCD , [9, 4] )\n",
      "Current element: ( ABCE , [9, 5] )\n",
      "Add to Pi: ( ABCE , [9, 5] )\n",
      "Current element: ( ABDE , [9, 6] )\n",
      "Add to Pi: ( ABDE , [9, 6] )\n",
      "Current element: ( ABD , [9, 4, 6] )\n",
      "Add to Pi: ( ABD , [9, 4, 6] )\n",
      "Current element: ( ABC , [0, 9, 4, 5] )\n",
      "Add to Pi: ( ABC , [0, 9, 4, 5] )\n",
      "Current element: ( ABE , [9, 5, 6] )\n",
      "Add to Pi: ( ABE , [9, 5, 6] )\n",
      "\n",
      "Start R_CharmAlg\n",
      "End R_CharmAlg\n",
      "\n",
      "Add to C: ( AB , [0, 4, 5, 6, 9] )\n",
      "Current element: ( ACDE , [9, 7] )\n",
      "Add to Pi: ( ACDE , [9, 7] )\n",
      "Current element: ( ACD , [9, 4, 7] )\n",
      "Add to Pi: ( ACD , [9, 4, 7] )\n",
      "Current element: ( ACE , [9, 5, 7] )\n",
      "Add to Pi: ( ACE , [9, 5, 7] )\n",
      "\n",
      "Start R_CharmAlg\n",
      "End R_CharmAlg\n",
      "\n",
      "Add to C: ( AC , [0, 4, 5, 7, 9] )\n",
      "Current element: ( ADE , [1, 9, 6, 7] )\n",
      "Add to Pi: ( ADE , [1, 9, 6, 7] )\n",
      "\n",
      "Start R_CharmAlg\n",
      "End R_CharmAlg\n",
      "\n",
      "Add to C: ( AD , [1, 4, 6, 7, 9] )\n",
      "Add to C: ( AE , [1, 5, 6, 7, 9] )\n",
      "Add to C: ( BE , [2, 5, 6, 8, 9] )\n",
      "Current element: ( CDE , [8, 9, 3, 7] )\n",
      "Add to Pi: ( CDE , [8, 9, 3, 7] )\n",
      "\n",
      "Start R_CharmAlg\n",
      "End R_CharmAlg\n",
      "\n",
      "Add to C: ( CD , [3, 4, 7, 8, 9] )\n",
      "Current element: ( BCDE , [8, 9] )\n",
      "Add to Pi: ( BCDE , [8, 9] )\n",
      "Current element: ( BCD , [8, 9, 4] )\n",
      "Add to Pi: ( BCD , [8, 9, 4] )\n",
      "Current element: ( BCE , [8, 9, 2, 5] )\n",
      "Add to Pi: ( BCE , [8, 9, 2, 5] )\n",
      "\n",
      "Start R_CharmAlg\n",
      "End R_CharmAlg\n",
      "\n",
      "Add to C: ( BC , [0, 2, 4, 5, 8, 9] )\n",
      "Add to C: ( CE , [2, 3, 5, 7, 8, 9] )\n",
      "Add to C: ( DE , [1, 3, 6, 7, 8, 9] )\n",
      "Current element: ( AB , [0, 4, 5, 6, 9] )\n",
      "Add to Pi: ( AB , [0, 4, 5, 6, 9] )\n",
      "Current element: ( AD , [1, 4, 6, 7, 9] )\n",
      "Add to Pi: ( AD , [1, 4, 6, 7, 9] )\n",
      "Current element: ( AC , [0, 4, 5, 7, 9] )\n",
      "Add to Pi: ( AC , [0, 4, 5, 7, 9] )\n",
      "Current element: ( AE , [1, 5, 6, 7, 9] )\n",
      "Add to Pi: ( AE , [1, 5, 6, 7, 9] )\n",
      "\n",
      "Start R_CharmAlg\n",
      "End R_CharmAlg\n",
      "\n",
      "Add to C: ( A , [0, 1, 4, 5, 6, 7, 9] )\n",
      "Current element: ( BD , [8, 9, 4, 6] )\n",
      "Add to Pi: ( BD , [8, 9, 4, 6] )\n",
      "Current element: ( BC , [0, 2, 4, 5, 8, 9] )\n",
      "Add to Pi: ( BC , [0, 2, 4, 5, 8, 9] )\n",
      "Current element: ( BE , [2, 5, 6, 8, 9] )\n",
      "Add to Pi: ( BE , [2, 5, 6, 8, 9] )\n",
      "\n",
      "Start R_CharmAlg\n",
      "End R_CharmAlg\n",
      "\n",
      "Add to C: ( B , [0, 2, 4, 5, 6, 8, 9] )\n",
      "Current element: ( DE , [1, 3, 6, 7, 8, 9] )\n",
      "Add to Pi: ( DE , [1, 3, 6, 7, 8, 9] )\n",
      "\n",
      "Start R_CharmAlg\n",
      "End R_CharmAlg\n",
      "\n",
      "Add to C: ( D , [1, 3, 4, 6, 7, 8, 9] )\n",
      "Current element: ( CE , [2, 3, 5, 7, 8, 9] )\n",
      "Add to Pi: ( CE , [2, 3, 5, 7, 8, 9] )\n",
      "\n",
      "Start R_CharmAlg\n",
      "End R_CharmAlg\n",
      "\n",
      "Add to C: ( C , [0, 2, 3, 4, 5, 7, 8, 9] )\n",
      "Add to C: ( E , [1, 2, 3, 5, 6, 7, 8, 9] )\n",
      "End R_CharmAlg\n",
      "\n",
      "End Charm\n",
      "C =  ['A', 'B', 'D', 'C', 'E', 'BD', 'AB', 'AC', 'AD', 'AE', 'BE', 'CD', 'BC', 'CE', 'DE', 'ABD', 'ABE', 'ACD', 'ACE', 'BCD', 'BDE', 'ABC', 'ADE', 'BCE', 'CDE', 'ABCD', 'ABCE', 'ABDE', 'ACDE', 'BCDE']\n"
     ]
    }
   ],
   "source": [
    "C=[]\n",
    "def Charm(P_dict,minsup,C):  \n",
    "    print()\n",
    "    print('Start R_CharmAlg')\n",
    "    P_list,P_data=sort_key(P_dict,minsup)    \n",
    "    t_list=[]\n",
    "    for i in P_list:        \n",
    "        t_list.append(frozenset(P_dict[i]))    \n",
    "    for i in range(len(P_list)):        \n",
    "        Pi={}\n",
    "        for j in range(i+1,len(P_list)):\n",
    "            Xij=P_list[i]+P_list[j]\n",
    "            t_val=t_list[i].intersection(t_list[j])            \n",
    "            if Xij in P_dict.keys():\n",
    "                cur_sup=len(P_dict[Xij])\n",
    "            else:\n",
    "                cur_sup=0\n",
    "            \n",
    "            if cur_sup>=minsup:\n",
    "                print('Current element: (',Xij,',',list(t_val),')')\n",
    "                if t_list[i]==t_list[j]:\n",
    "                    P_list[i]=Xij\n",
    "                    if P_list[i] in Pi.keys():\n",
    "                        Pi[Xij]=Pi.pop(P_list[i])\n",
    "                    P_list[j].remove()\n",
    "                else:\n",
    "                    if t_list[i].issubset(t_list[j]):\n",
    "                        P_list[i]=Xij\n",
    "                        if P_list[i] in Pi.keys():\n",
    "                            Pi[Xij]=Pi.pop(P_list[i])\n",
    "                    else:\n",
    "                        Pi[Xij]=list(t_val)\n",
    "                        print('Add to Pi: (',Xij,',',list(t_val),')')\n",
    "        if Pi!={}:\n",
    "            Charm(Pi,minsup,C)            \n",
    "        Z=False\n",
    "        for h in range(len(C)):\n",
    "            C_set=frozenset(C[h])\n",
    "            Xi_set=frozenset(P_list[i])\n",
    "            for k in range(len(P_list)):\n",
    "                            if P_list[k]==C[h]:\n",
    "                                index=k\n",
    "                                if Xi_set.issubset(C_set) and t_list[i]==t_list[index]:\n",
    "                                    Z=True\n",
    "        if Z==False:\n",
    "            print('Add to C: (',P_list[i],',',P_dict[P_list[i]],')')\n",
    "            C.append(P_list[i])      \n",
    "    print('End R_CharmAlg')\n",
    "    print()\n",
    "\n",
    "print('Start Charm with minsup value: ', MinsupValue)\n",
    "Charm(P,MinsupValue,C)\n",
    "C.sort(key=len)\n",
    "print('End Charm')\n",
    "print('C = ',C)               "
   ]
  },
  {
   "cell_type": "markdown",
   "id": "e3c14066-087c-4dcc-8cc2-2521074a47e2",
   "metadata": {},
   "source": [
    "## 2.4"
   ]
  },
  {
   "cell_type": "code",
   "execution_count": 6,
   "id": "432cf11b-cd82-473a-ac60-85a8f6e3d86a",
   "metadata": {},
   "outputs": [],
   "source": [
    "def Charm_no_output(P_dict,minsup,C):  \n",
    "    P_list,P_data=sort_key(P_dict,minsup)    \n",
    "    t_list=[]\n",
    "    for i in P_list:        \n",
    "        t_list.append(frozenset(P_dict[i]))    \n",
    "    for i in range(len(P_list)):        \n",
    "        Pi={}\n",
    "        for j in range(i+1,len(P_list)):\n",
    "            Xij=P_list[i]+P_list[j]\n",
    "            t_val=t_list[i].intersection(t_list[j])            \n",
    "            if Xij in P_dict.keys():\n",
    "                cur_sup=len(P_dict[Xij])\n",
    "            else:\n",
    "                cur_sup=0\n",
    "            \n",
    "            if cur_sup>=minsup:\n",
    "                if t_list[i]==t_list[j]:\n",
    "                    P_list[i]=Xij\n",
    "                    if P_list[i] in Pi.keys():\n",
    "                        Pi[Xij]=Pi.pop(P_list[i])\n",
    "                    P_list[j].remove()\n",
    "                else:\n",
    "                    if t_list[i].issubset(t_list[j]):\n",
    "                        P_list[i]=Xij\n",
    "                        if P_list[i] in Pi.keys():\n",
    "                            Pi[Xij]=Pi.pop(P_list[i])\n",
    "                    else:\n",
    "                        Pi[Xij]=list(t_val)\n",
    "                       \n",
    "        if Pi!={}:\n",
    "            Charm_no_output(Pi,minsup,C)            \n",
    "        Z=False\n",
    "        for h in range(len(C)):\n",
    "            C_set=frozenset(C[h])\n",
    "            Xi_set=frozenset(P_list[i])\n",
    "            for k in range(len(P_list)):\n",
    "                            if P_list[k]==C[h]:\n",
    "                                index=k\n",
    "                                if Xi_set.issubset(C_set) and t_list[i]==t_list[index]:\n",
    "                                    Z=True\n",
    "        if Z==False:\n",
    "            C.append(P_list[i])             "
   ]
  },
  {
   "cell_type": "code",
   "execution_count": 7,
   "id": "98fb59cf-1110-4589-a7c8-b4b8f8ba6d7e",
   "metadata": {},
   "outputs": [
    {
     "name": "stdout",
     "output_type": "stream",
     "text": [
      "Add +1 to BCD\n",
      "N_Source data S =  {'A': 7, 'B': 8, 'C': 9, 'D': 8, 'E': 8, 'AB': 5, 'AC': 5, 'AD': 5, 'AE': 5, 'BC': 7, 'BD': 5, 'BE': 5, 'CD': 6, 'CE': 6, 'DE': 6, 'ABC': 4, 'ABD': 3, 'ABE': 3, 'ACD': 3, 'ACE': 3, 'ADE': 4, 'BCD': 4, 'BCE': 4, 'BDE': 3, 'CDE': 4, 'ABCD': 2, 'ABCE': 2, 'ABDE': 2, 'ACDE': 2, 'BCDE': 2, 'ABCDE': 1}\n"
     ]
    }
   ],
   "source": [
    "data2 = {'A':7,'B':8,'C':9,'D':8,'E':8,'AB':5,'AC':5,'AD':5,'AE':5,'BC':7,'BD':5,'BE':5,'CD':6,'CE':6,'DE':6,'ABC':4,'ABD':3,'ABE':3,'ACD':3,'ACE':3,'ADE':4,'BCD':4,'BCE':4,'BDE':3,'CDE':4,'ABCD':2,'ABCE':2,'ABDE':2,'ACDE':2,'BCDE':2,'ABCDE':1}\n",
    "print('Add +1 to BCD')\n",
    "print('N_Source data S = ', data2)"
   ]
  },
  {
   "cell_type": "code",
   "execution_count": 8,
   "id": "f7af231c-71b6-44b3-9e4e-85bd1910fa09",
   "metadata": {},
   "outputs": [
    {
     "name": "stdout",
     "output_type": "stream",
     "text": [
      "T =  ['ABC', 'ADE', 'BCD', 'BCE', 'CDE', 'ABCD', 'ABCE', 'ABDE', 'ACDE', 'BCDE', 'ABCDE']\n"
     ]
    }
   ],
   "source": [
    "T2=findT(data2, data_list)\n",
    "print('T = ',T2)"
   ]
  },
  {
   "cell_type": "code",
   "execution_count": 9,
   "id": "de554b69-3632-42a3-8a70-85a28db3c3a5",
   "metadata": {},
   "outputs": [
    {
     "name": "stdout",
     "output_type": "stream",
     "text": [
      "P =  {'A': [0, 1, 5, 6, 7, 8, 10], 'B': [0, 2, 3, 5, 6, 7, 9, 10], 'C': [0, 2, 3, 4, 5, 6, 8, 9, 10], 'D': [1, 2, 4, 5, 7, 8, 9, 10], 'E': [1, 3, 4, 6, 7, 8, 9, 10], 'AB': [0, 5, 6, 7, 10], 'AC': [0, 5, 6, 8, 10], 'AD': [1, 5, 7, 8, 10], 'AE': [1, 6, 7, 8, 10], 'BC': [0, 2, 3, 5, 6, 9, 10], 'BD': [2, 5, 7, 9, 10], 'BE': [3, 6, 7, 9, 10], 'CD': [2, 4, 5, 8, 9, 10], 'CE': [3, 4, 6, 8, 9, 10], 'DE': [1, 4, 7, 8, 9, 10], 'ABC': [0, 5, 6, 10], 'ABD': [5, 7, 10], 'ABE': [6, 7, 10], 'ACD': [5, 8, 10], 'ACE': [6, 8, 10], 'ADE': [1, 7, 8, 10], 'BCD': [2, 5, 9, 10], 'BCE': [3, 6, 9, 10], 'BDE': [7, 9, 10], 'CDE': [4, 8, 9, 10], 'ABCD': [5, 10], 'ABCE': [6, 10], 'ABDE': [7, 10], 'ACDE': [8, 10], 'BCDE': [9, 10], 'ABCDE': [10]}\n"
     ]
    }
   ],
   "source": [
    "T_set2=toSet(T2)\n",
    "data_set2=toSet(data_list)\n",
    "P2=findP(T_set2,data_set2)\n",
    "print('P = ',P2)"
   ]
  },
  {
   "cell_type": "code",
   "execution_count": 10,
   "id": "c64d19b6-a014-4342-9b6b-d84f5dcac35d",
   "metadata": {},
   "outputs": [
    {
     "name": "stdout",
     "output_type": "stream",
     "text": [
      "C =  ['A', 'B', 'D', 'E', 'C', 'AB', 'AC', 'AD', 'AE', 'BD', 'BE', 'CD', 'CE', 'DE', 'BC', 'ABD', 'ABE', 'ACD', 'ACE', 'BDE', 'ABC', 'ADE', 'BCD', 'BCE', 'CDE', 'ABCD', 'ABCE', 'ABDE', 'ACDE', 'BCDE']\n"
     ]
    }
   ],
   "source": [
    "C2=[]\n",
    "Charm_no_output(P2,MinsupValue,C2)\n",
    "C2.sort(key=len)\n",
    "print('C = ',C2) "
   ]
  },
  {
   "cell_type": "code",
   "execution_count": null,
   "id": "8291f81c-0066-4b34-8055-8a7e70af95c7",
   "metadata": {},
   "outputs": [],
   "source": []
  }
 ],
 "metadata": {
  "kernelspec": {
   "display_name": "Python 3 (ipykernel)",
   "language": "python",
   "name": "python3"
  },
  "language_info": {
   "codemirror_mode": {
    "name": "ipython",
    "version": 3
   },
   "file_extension": ".py",
   "mimetype": "text/x-python",
   "name": "python",
   "nbconvert_exporter": "python",
   "pygments_lexer": "ipython3",
   "version": "3.9.6"
  }
 },
 "nbformat": 4,
 "nbformat_minor": 5
}
