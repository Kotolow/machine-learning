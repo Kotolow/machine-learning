{
 "cells": [
  {
   "cell_type": "code",
   "execution_count": 1,
   "id": "b9fe1c51-9782-40c9-b12d-8d0eef83947b",
   "metadata": {},
   "outputs": [
    {
     "name": "stdout",
     "output_type": "stream",
     "text": [
      "Source points ND: \n",
      "[[6.0, 10.0], [5.0, 10.0], [6.0, 9.0], [5.0, 9.0], [5.0, 8.0], [4.0, 6.0], [4.0, 9.0], [17.0, 3.0], [7.0, 9.0], [7.0, 10.0], [4.0, 10.0], [16.0, 5.0], [13.0, 2.0], [16.0, 3.0], [18.0, 10.0], [3.0, 10.0], [12.0, 3.0], [17.0, 9.0], [13.0, 6.0], [1.0, 9.0], [14.0, 10.0], [19.0, 10.0], [18.0, 8.0], [4.0, 8.0], [3.0, 7.0]]\n"
     ]
    }
   ],
   "source": [
    "import pandas as pd\n",
    "import numpy as np\n",
    "from math import sqrt\n",
    "import matplotlib.pyplot as plt\n",
    "data=[[6.0, 10.0], [5.0, 10.0], [6.0, 9.0], [5.0, 9.0], [5.0, 8.0], [4.0, 6.0], [4.0,9.0], [17.0, 3.0], [7.0, 9.0], [7.0, 10.0], [4.0, 10.0], [16.0, 5.0], [13.0, 2.0],\n",
    "[16.0, 3.0],[18.0,10.0],[3.0,10.0],[12.0,3.0],[17.0,9.0],[13.0,6.0],[1.0,9.0],[14.0,10.0],[19.0,10.0],[18.0,8.0],[4.0,8.0],[3.0,7.0]]\n",
    "print('Source points ND: ')\n",
    "print(data)"
   ]
  },
  {
   "cell_type": "code",
   "execution_count": 2,
   "id": "a26575e5-76e6-4d23-a7e1-739b82a3f081",
   "metadata": {},
   "outputs": [],
   "source": [
    "def computeN(D,x,e,metrik):\n",
    "    N=[]    \n",
    "    for y in range(len(D)):\n",
    "        curDist=0\n",
    "        if D[y]!=D[x]:\n",
    "            if metrik==1:\n",
    "                for i in range(len(D[y])):\n",
    "                    curDist+=(D[x][i]-D[y][i])*(D[x][i]-D[y][i])\n",
    "                curDist=sqrt(curDist)\n",
    "            if metrik==2:\n",
    "                for i in range(len(D[y])):\n",
    "                    curDist+=sqrt(abs(D[x][i]-D[y][i]))\n",
    "                curDist=curDist*curDist\n",
    "            if metrik==3:\n",
    "                temp=[]\n",
    "                for i in range(len(D[y])):\n",
    "                    temp.append(abs(D[x][i]-D[y][i]))\n",
    "                curDist=max(temp)\n",
    "            if metrik==4:\n",
    "                temp=[]\n",
    "                for i in range(len(D[y])):\n",
    "                    temp.append(abs(D[x][i]-D[y][i]))\n",
    "                curDist=min(temp)\n",
    "            if metrik==5:\n",
    "                for i in range(len(D[y])):\n",
    "                    curDist+=(2**(i))*(D[x][i]-D[y][i])*(D[x][i]-D[y][i])\n",
    "                curDist=sqrt(curDist)\n",
    "            if curDist<=e:\n",
    "                N.append(D[y])\n",
    "    return(N)"
   ]
  },
  {
   "cell_type": "code",
   "execution_count": 3,
   "id": "9fdedb4c-ce58-49a7-b5df-a4d068453442",
   "metadata": {},
   "outputs": [],
   "source": [
    "def indexInD(arr,D):\n",
    "    for i in range(len(D)):\n",
    "        if D[i]==arr:\n",
    "            return i\n",
    "def densityConnect(x,k,AllN,Core,Id,D):\n",
    "    temp=AllN.copy()\n",
    "    for y in AllN[x]:        \n",
    "        if y!=AllN[x]:          \n",
    "            \n",
    "            Id[y]=k            \n",
    "            if (y in Core):\n",
    "                temp[x].remove(y)                \n",
    "                densityConnect(y,k,temp,Core,Id,D)"
   ]
  },
  {
   "cell_type": "code",
   "execution_count": 4,
   "id": "d0c859cb-27cc-4e21-9c35-9df070f35c9a",
   "metadata": {},
   "outputs": [],
   "source": [
    "def DBSCAN(D,e,minpts,metrik):\n",
    "    Core=[]\n",
    "    AllN=[]\n",
    "    Id={}\n",
    "    for xi in range(len(D)):\n",
    "        AllN.append(computeN(D,xi,e,metrik))\n",
    "        Id[xi]=0\n",
    "        if len(AllN[xi])>=minpts:\n",
    "            Core.append(xi)\n",
    "    indN=[]    \n",
    "    for i in range(len(AllN)):\n",
    "        indN.append([])\n",
    "        for j in range(len(AllN[i])):\n",
    "            indN[i].append(indexInD(AllN[i][j],D))    \n",
    "    k=0\n",
    "    for xi in Core:\n",
    "        if Id[xi]==0:\n",
    "            k+=1\n",
    "            Id[xi]=k\n",
    "            densityConnect(xi,k,indN,Core,Id,D)\n",
    "    C=[]\n",
    "    for i in range(k):\n",
    "        C.append([])\n",
    "    for i in range(k):\n",
    "        for x in range(len(D)):\n",
    "            if Id[x]==i+1:\n",
    "                C[i].append(x)    \n",
    "    Noise=[]\n",
    "    for x in range(len(D)):\n",
    "        if Id[x]==0:\n",
    "            Noise.append(x)\n",
    "    Border=[]\n",
    "    for x in range(len(D)):\n",
    "        if (x not in Core) and (x not in Noise):\n",
    "            Border.append(x)    \n",
    "    return (C,Core,Noise,Border,k)"
   ]
  },
  {
   "cell_type": "code",
   "execution_count": 5,
   "id": "7acc378e-1b84-4d08-b2c8-2c37d5cf2b32",
   "metadata": {},
   "outputs": [],
   "source": [
    "def drawDiagram(data,C,N,k):\n",
    "    colors=['#1f77b4', '#ff7f0e', '#2ca02c', '#d62728', '#9467bd', '#8c564b', '#e377c2', '#7f7f7f', '#bcbd22', '#17becf']\n",
    "    CX=[]\n",
    "    CY=[]\n",
    "    for i in range(k):\n",
    "        CX.append([])\n",
    "        CY.append([])\n",
    "        for j in C[i]:\n",
    "            CX[i].append(data[j][0])\n",
    "            CY[i].append(data[j][1])\n",
    "    NX=[]\n",
    "    NY=[]\n",
    "    for i in N:\n",
    "        NX.append(data[i][0])\n",
    "        NY.append(data[i][1])\n",
    "    for i in range(k):\n",
    "        temp=i\n",
    "        curLabel='Cluster ' + str(temp)\n",
    "        plt.scatter(CX[i],CY[i],c=colors[i],label=curLabel)\n",
    "    plt.scatter(NX,NY,c=colors[k],marker='*',label='Noise')\n",
    "    for i in range(len(data)):\n",
    "        for p in range(k):\n",
    "            for j in range(len(CX[p])):\n",
    "                if data[i][0]==CX[p][j] and data[i][1]==CY[p][j]:\n",
    "                    plt.annotate(i, (data[i][0]-0.1, data[i][1]+0.1))\n",
    "        for j in range(len(NX)):\n",
    "            if data[i][0]==NX[j] and data[i][1]==NY[j]:\n",
    "                plt.annotate(i, (data[i][0]-0.1, data[i][1]+0.1))        \n",
    "    plt.legend()\n",
    "    "
   ]
  },
  {
   "cell_type": "markdown",
   "id": "548689c7-2302-407b-93fb-f1975e9d61c3",
   "metadata": {},
   "source": [
    "# 4.1"
   ]
  },
  {
   "cell_type": "code",
   "execution_count": 6,
   "id": "f9c44843-837c-4df2-8830-09b13ef6ae39",
   "metadata": {},
   "outputs": [
    {
     "name": "stdout",
     "output_type": "stream",
     "text": [
      "Measure  1 , e =  2.0 , minPts =  3.0\n",
      "Result:\n",
      "C:  [[0, 1, 2, 3, 4, 5, 6, 8, 9, 10, 15, 23, 24], [14, 17, 21, 22]]\n",
      "O:  [0, 1, 2, 3, 4, 6, 8, 9, 10, 14, 15, 23]\n",
      "B:  [5, 17, 21, 22, 24]\n",
      "N:  [7, 11, 12, 13, 16, 18, 19, 20]\n"
     ]
    }
   ],
   "source": [
    "measure=1\n",
    "e=2.0\n",
    "minpts=3.0\n",
    "C,O,N,B,k=DBSCAN(data,e,minpts,measure)\n",
    "print('Measure ',measure,', e = ',e,', minPts = ',minpts)\n",
    "print('Result:')\n",
    "print('C: ',C)\n",
    "print('O: ',O)\n",
    "print('B: ',B)\n",
    "print('N: ',N)"
   ]
  },
  {
   "cell_type": "code",
   "execution_count": 7,
   "id": "19367f70-88b6-4a60-8639-2af42b6c4f35",
   "metadata": {},
   "outputs": [
    {
     "data": {
      "image/png": "[encoded data removed]",
      "text/plain": [
       "<Figure size 432x288 with 1 Axes>"
      ]
     },
     "metadata": {
      "needs_background": "light"
     },
     "output_type": "display_data"
    }
   ],
   "source": [
    "drawDiagram(data,C,N,k)"
   ]
  },
  {
   "cell_type": "markdown",
   "id": "f9f4929a-eaf9-4af0-80e0-956cac3a1096",
   "metadata": {},
   "source": [
    "# 4.2"
   ]
  },
  {
   "cell_type": "code",
   "execution_count": 8,
   "id": "4e96eea1-d222-496e-8c00-7234a6fb81aa",
   "metadata": {},
   "outputs": [
    {
     "name": "stdout",
     "output_type": "stream",
     "text": [
      "Measure  2 , e =  3.0 , minPts =  5.0\n",
      "Result:\n",
      "C:  [[0, 1, 2, 3, 4, 5, 6, 8, 9, 10, 15, 19, 23]]\n",
      "O:  [0, 1, 3, 6, 10]\n",
      "B:  [2, 4, 5, 8, 9, 15, 19, 23]\n",
      "N:  [7, 11, 12, 13, 14, 16, 17, 18, 20, 21, 22, 24]\n"
     ]
    },
    {
     "data": {
      "image/png": "[encoded data removed]",
      "text/plain": [
       "<Figure size 432x288 with 1 Axes>"
      ]
     },
     "metadata": {
      "needs_background": "light"
     },
     "output_type": "display_data"
    }
   ],
   "source": [
    "measure=2\n",
    "e=3.0\n",
    "minpts=5.0\n",
    "C,O,N,B,k=DBSCAN(data,e,minpts,measure)\n",
    "print('Measure ',measure,', e = ',e,', minPts = ',minpts)\n",
    "print('Result:')\n",
    "print('C: ',C)\n",
    "print('O: ',O)\n",
    "print('B: ',B)\n",
    "print('N: ',N)\n",
    "drawDiagram(data,C,N,k)"
   ]
  },
  {
   "cell_type": "markdown",
   "id": "7de3cf33-c74b-40ad-88e0-33a2fdcd421c",
   "metadata": {},
   "source": [
    "# 4.3"
   ]
  },
  {
   "cell_type": "code",
   "execution_count": 9,
   "id": "8b0f8f85-04ff-4db7-b136-1af76b0cef8e",
   "metadata": {},
   "outputs": [
    {
     "name": "stdout",
     "output_type": "stream",
     "text": [
      "Measure  3 , e =  1.0 , minPts =  2.0\n",
      "Result:\n",
      "C:  [[0, 1, 2, 3, 4, 5, 6, 8, 9, 10, 15, 23, 24], [14, 17, 21]]\n",
      "O:  [0, 1, 2, 3, 4, 6, 8, 9, 10, 14, 15, 17, 23, 24]\n",
      "B:  [5, 21]\n",
      "N:  [7, 11, 12, 13, 16, 18, 19, 20, 22]\n"
     ]
    },
    {
     "data": {
      "image/png": "[encoded data removed]",
      "text/plain": [
       "<Figure size 432x288 with 1 Axes>"
      ]
     },
     "metadata": {
      "needs_background": "light"
     },
     "output_type": "display_data"
    }
   ],
   "source": [
    "measure=3\n",
    "e=1.0\n",
    "minpts=2.0\n",
    "C,O,N,B,k=DBSCAN(data,e,minpts,measure)\n",
    "print('Measure ',measure,', e = ',e,', minPts = ',minpts)\n",
    "print('Result:')\n",
    "print('C: ',C)\n",
    "print('O: ',O)\n",
    "print('B: ',B)\n",
    "print('N: ',N)\n",
    "drawDiagram(data,C,N,k)"
   ]
  },
  {
   "cell_type": "markdown",
   "id": "a803c467-e329-46b5-a44e-7d55f71742c5",
   "metadata": {},
   "source": [
    "# 4.4"
   ]
  },
  {
   "cell_type": "code",
   "execution_count": 10,
   "id": "79c9eb3f-ad09-44ab-973a-5ecc64fe0e32",
   "metadata": {},
   "outputs": [
    {
     "name": "stdout",
     "output_type": "stream",
     "text": [
      "Measure  4 , e =  3.0 , minPts =  4.0\n",
      "Result:\n",
      "C:  [[0, 1, 2, 3, 4, 5, 6, 7, 8, 9, 10, 11, 12, 13, 14, 15, 16, 17, 18, 19, 20, 21, 22, 23, 24]]\n",
      "O:  [0, 1, 2, 3, 4, 5, 6, 7, 8, 9, 10, 11, 12, 13, 14, 15, 16, 17, 18, 19, 20, 21, 22, 23, 24]\n",
      "B:  []\n",
      "N:  []\n"
     ]
    },
    {
     "data": {
      "image/png": "[encoded data removed]",
      "text/plain": [
       "<Figure size 432x288 with 1 Axes>"
      ]
     },
     "metadata": {
      "needs_background": "light"
     },
     "output_type": "display_data"
    }
   ],
   "source": [
    "measure=4\n",
    "e=3.0\n",
    "minpts=4.0\n",
    "C,O,N,B,k=DBSCAN(data,e,minpts,measure)\n",
    "print('Measure ',measure,', e = ',e,', minPts = ',minpts)\n",
    "print('Result:')\n",
    "print('C: ',C)\n",
    "print('O: ',O)\n",
    "print('B: ',B)\n",
    "print('N: ',N)\n",
    "drawDiagram(data,C,N,k)"
   ]
  },
  {
   "cell_type": "markdown",
   "id": "efd75985-5b52-4b74-95d2-5c6566122502",
   "metadata": {},
   "source": [
    "# 4.5"
   ]
  },
  {
   "cell_type": "code",
   "execution_count": 11,
   "id": "61e6d1fc-ec53-4eda-933b-50c6caabf56a",
   "metadata": {},
   "outputs": [
    {
     "name": "stdout",
     "output_type": "stream",
     "text": [
      "Measure  5 , e =  3.0 , minPts =  5.0\n",
      "Result:\n",
      "C:  [[0, 1, 2, 3, 4, 5, 6, 8, 9, 10, 15, 19, 23, 24]]\n",
      "O:  [0, 1, 2, 3, 4, 6, 8, 9, 10, 15, 23]\n",
      "B:  [5, 19, 24]\n",
      "N:  [7, 11, 12, 13, 14, 16, 17, 18, 20, 21, 22]\n"
     ]
    },
    {
     "data": {
      "image/png": "[encoded data removed]",
      "text/plain": [
       "<Figure size 432x288 with 1 Axes>"
      ]
     },
     "metadata": {
      "needs_background": "light"
     },
     "output_type": "display_data"
    }
   ],
   "source": [
    "measure=5\n",
    "e=3.0\n",
    "minpts=5.0\n",
    "C,O,N,B,k=DBSCAN(data,e,minpts,measure)\n",
    "print('Measure ',measure,', e = ',e,', minPts = ',minpts)\n",
    "print('Result:')\n",
    "print('C: ',C)\n",
    "print('O: ',O)\n",
    "print('B: ',B)\n",
    "print('N: ',N)\n",
    "drawDiagram(data,C,N,k)"
   ]
  },
  {
   "cell_type": "code",
   "execution_count": null,
   "id": "74f70f37-b9b2-4466-bfb7-36478063421b",
   "metadata": {},
   "outputs": [],
   "source": []
  }
 ],
 "metadata": {
  "kernelspec": {
   "display_name": "Python 3 (ipykernel)",
   "language": "python",
   "name": "python3"
  },
  "language_info": {
   "codemirror_mode": {
    "name": "ipython",
    "version": 3
   },
   "file_extension": ".py",
   "mimetype": "text/x-python",
   "name": "python",
   "nbconvert_exporter": "python",
   "pygments_lexer": "ipython3",
   "version": "3.9.6"
  }
 },
 "nbformat": 4,
 "nbformat_minor": 5
}
